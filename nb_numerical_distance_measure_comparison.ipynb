{
 "cells": [
  {
   "cell_type": "code",
   "execution_count": 1,
   "metadata": {},
   "outputs": [],
   "source": [
    "from matplotlib import pyplot as plt\n",
    "from IPython.display import display, Markdown\n",
    "import numpy as np\n",
    "import pandas as pd\n",
    "import random\n",
    "from scipy.stats import ks_2samp\n",
    "from utils import ( \n",
    "                    numerical_data_distribution_plot,\n",
    "                    create_drift_metric_comparison_table_numerical,\n",
    "                    create_bin_strategy_comparison_table_numerical,\n",
    "                    create_comparison_with_evidently_table_numerical,\n",
    "                    create_sample_size_comparison_table_numerical,\n",
    "                    create_sample_size_bin_comparison_table_numerical,\n",
    "             )\n",
    "from yaml import safe_load\n",
    "config = safe_load(open('config.yml','rb'))"
   ]
  },
  {
   "cell_type": "code",
   "execution_count": 14,
   "metadata": {},
   "outputs": [],
   "source": [
    "observations = 9_000\n",
    "distribution_selection = '1b'"
   ]
  },
  {
   "cell_type": "code",
   "execution_count": 19,
   "metadata": {},
   "outputs": [
    {
     "name": "stdout",
     "output_type": "stream",
     "text": [
      "Observations: 9000\n",
      "Distribution Selection: 1b\n"
     ]
    }
   ],
   "source": [
    "print(f'Observations: {observations}')\n",
    "print(f'Distribution Selection: {distribution_selection}')\n",
    "\n",
    "if distribution_selection == '1a':\n",
    "    description = 'Identical Normal Distributions - No Drift'\n",
    "    x = np.random.normal(50, 15, observations) # reference\n",
    "    y = x\n",
    "\n",
    "elif distribution_selection == '1b':\n",
    "    description = 'Normal Distributions - Minimal Drift'\n",
    "    x = np.random.normal(50, 0, observations) # reference\n",
    "    y = np.random.normal(51, 0, observations) # small drift \n",
    "\n",
    "elif distribution_selection == '1c':\n",
    "    description = 'Normal Distributions - Small Drift'\n",
    "    x = np.random.normal(50, 15, observations) # reference\n",
    "    y = np.random.normal(53, 15, int(observations*0.1)) # small drift \n",
    "\n",
    "elif distribution_selection == '1d':\n",
    "    description = 'Normal Distributions - Large Drift'\n",
    "    x = np.random.normal(50, 15, observations) # reference\n",
    "    y = np.random.normal(60, 20, observations) # small drift \n",
    "\n",
    "elif distribution_selection == '1e':\n",
    "    description = 'Normal Distributions - Very Large Drift'\n",
    "    x = np.random.normal(50, 15, observations) # reference\n",
    "    y = np.random.normal(200, 15, observations) # small drift \n",
    "\n",
    "elif distribution_selection == '1f':\n",
    "    description = 'Normal Distributions - Extreme Drift'\n",
    "    x = np.random.normal(50, 15, observations) # reference\n",
    "    y = np.random.normal(100, 15, observations) # small drift \n",
    "\n",
    "elif distribution_selection == '1g':\n",
    "    description = 'Normal Distributions - No Drift - Different Scale'\n",
    "    x = np.random.normal(50000, 1500, observations) # reference\n",
    "    y = np.random.normal(50000, 1500, observations) # small drift \n",
    "\n",
    "elif distribution_selection == '2a':\n",
    "    description = 'Normal Distributions with Outliers - Small Drift'\n",
    "    x = np.random.normal(50, 15, observations) # reference\n",
    "    y = np.append(np.random.normal(50, 15, observations),np.random.normal(125,1,int(observations/100))) # same as reference with small amout of outliers\n",
    "\n",
    "elif distribution_selection == '2b':\n",
    "    description = 'Normal Distributions with Outliers - Some Drift'\n",
    "    x = np.random.normal(50, 15, observations) # reference\n",
    "    y = np.append(np.random.normal(50, 15, observations),np.random.normal(125,1,int(observations/80))) # same as reference with a some of outliers\n",
    "\n",
    "elif distribution_selection == '2c':\n",
    "    description = 'Normal Distributions with Outliers - Drift'\n",
    "    x = np.random.normal(50, 15, observations) # reference\n",
    "    y = np.append(np.random.normal(50, 15, observations),np.random.normal(125,1,int(observations/60))) # same as reference with some outliers\n",
    "\n",
    "elif distribution_selection == '2d':\n",
    "    description = 'Normal Distributions with Outliers - Drift'\n",
    "    x = np.random.normal(50, 15, observations) # reference\n",
    "    y = np.append(np.random.normal(50, 15, observations),np.random.normal(125,1,int(observations/40))) # same as reference with some outliers\n",
    "\n",
    "elif distribution_selection == '3a':\n",
    "    description = 'Identical Uniform Distributions - No Drift'\n",
    "    x = np.random.uniform(10,50, observations) # reference\n",
    "    y = x\n",
    "\n",
    "elif distribution_selection == '3b':\n",
    "    description = 'Uniform Distributions with small excess in the upper range - Small Drift'\n",
    "    x = np.random.uniform(10,50, observations) # reference\n",
    "    y = np.append(np.random.uniform(10,50, int(observations*0.95)),np.random.uniform(20,50, int(observations*0.05)))  # small drift \n",
    "\n",
    "elif distribution_selection == '3c':\n",
    "    description = 'Uniform Distributions with small excess in the upper range - Some Drift'\n",
    "    x = np.random.uniform(10,50, observations) # reference\n",
    "    y = np.append(np.random.uniform(10,50, int(observations*0.7)),np.random.uniform(20,50, int(observations*0.3)))  # some drift \n",
    "\n",
    "elif distribution_selection == '3d':\n",
    "    description = 'Uniform Distributions With Different Range - Drift'\n",
    "    x = np.random.uniform(10,50, observations) # reference\n",
    "    y = np.random.uniform(10,60, observations) # reference\n",
    "\n",
    "elif distribution_selection == '4a':\n",
    "    description = 'Single Value - No Drift'\n",
    "    x = np.full(observations,10) # single value\n",
    "    y = np.full(observations,10) # same single value\n",
    "\n",
    "elif distribution_selection == '4b':\n",
    "    description = 'Single Value with some outliers - Drift'\n",
    "    x = np.full(observations,10) # single value\n",
    "    y = np.append(np.full(observations,10), np.full(int(observations/50),10.01)) # same single value with some outliers\n",
    "\n",
    "elif distribution_selection == '4c':\n",
    "    description = 'Differnt Single Values - Drift'\n",
    "    x = np.full(observations,10) # single value\n",
    "    y = np.full(observations,10.01) # single value\n",
    "\n"
   ]
  },
  {
   "cell_type": "code",
   "execution_count": 20,
   "metadata": {},
   "outputs": [
    {
     "data": {
      "text/markdown": [
       "# <strong>Normal Distributions - Minimal Drift</strong><br/>"
      ],
      "text/plain": [
       "<IPython.core.display.Markdown object>"
      ]
     },
     "execution_count": 20,
     "metadata": {},
     "output_type": "execute_result"
    }
   ],
   "source": [
    "Markdown('# <strong>{}</strong><br/>'.format(description))"
   ]
  },
  {
   "cell_type": "code",
   "execution_count": 21,
   "metadata": {},
   "outputs": [
    {
     "data": {
      "image/png": "[encoded data removed]",
      "text/plain": [
       "<Figure size 1000x500 with 1 Axes>"
      ]
     },
     "metadata": {},
     "output_type": "display_data"
    }
   ],
   "source": [
    "g = numerical_data_distribution_plot(x,y,bin_strategy='stu')"
   ]
  },
  {
   "cell_type": "code",
   "execution_count": 22,
   "metadata": {},
   "outputs": [
    {
     "data": {
      "text/html": [
       "<div>\n",
       "<style scoped>\n",
       "    .dataframe tbody tr th:only-of-type {\n",
       "        vertical-align: middle;\n",
       "    }\n",
       "\n",
       "    .dataframe tbody tr th {\n",
       "        vertical-align: top;\n",
       "    }\n",
       "\n",
       "    .dataframe thead th {\n",
       "        text-align: right;\n",
       "    }\n",
       "</style>\n",
       "<table border=\"1\" class=\"dataframe\">\n",
       "  <thead>\n",
       "    <tr style=\"text-align: right;\">\n",
       "      <th></th>\n",
       "      <th>Distance</th>\n",
       "      <th>Drift Detection</th>\n",
       "    </tr>\n",
       "  </thead>\n",
       "  <tbody>\n",
       "    <tr>\n",
       "      <th>Jensen-Shannon Distance</th>\n",
       "      <td>1.0</td>\n",
       "      <td>drift detected</td>\n",
       "    </tr>\n",
       "    <tr>\n",
       "      <th>Normed Wasserstein Distance</th>\n",
       "      <td>1000.0</td>\n",
       "      <td>drift detected</td>\n",
       "    </tr>\n",
       "    <tr>\n",
       "      <th>Normed Wasserstein Distance on Prob Dist</th>\n",
       "      <td>0.0</td>\n",
       "      <td>no drift</td>\n",
       "    </tr>\n",
       "    <tr>\n",
       "      <th>PSI</th>\n",
       "      <td>18.2102</td>\n",
       "      <td>drift detected</td>\n",
       "    </tr>\n",
       "    <tr>\n",
       "      <th>D_inf</th>\n",
       "      <td>1.0</td>\n",
       "      <td>drift detected</td>\n",
       "    </tr>\n",
       "    <tr>\n",
       "      <th>KS Test</th>\n",
       "      <td>0.0</td>\n",
       "      <td>drift detected</td>\n",
       "    </tr>\n",
       "  </tbody>\n",
       "</table>\n",
       "</div>"
      ],
      "text/plain": [
       "                                         Distance Drift Detection\n",
       "Jensen-Shannon Distance                       1.0  drift detected\n",
       "Normed Wasserstein Distance                1000.0  drift detected\n",
       "Normed Wasserstein Distance on Prob Dist      0.0        no drift\n",
       "PSI                                       18.2102  drift detected\n",
       "D_inf                                         1.0  drift detected\n",
       "KS Test                                       0.0  drift detected"
      ]
     },
     "execution_count": 22,
     "metadata": {},
     "output_type": "execute_result"
    }
   ],
   "source": [
    "df=create_drift_metric_comparison_table_numerical(x,y)\n",
    "df"
   ]
  },
  {
   "cell_type": "code",
   "execution_count": 7,
   "metadata": {},
   "outputs": [
    {
     "data": {
      "text/html": [
       "<div>\n",
       "<style scoped>\n",
       "    .dataframe tbody tr th:only-of-type {\n",
       "        vertical-align: middle;\n",
       "    }\n",
       "\n",
       "    .dataframe tbody tr th {\n",
       "        vertical-align: top;\n",
       "    }\n",
       "\n",
       "    .dataframe thead th {\n",
       "        text-align: right;\n",
       "    }\n",
       "</style>\n",
       "<table border=\"1\" class=\"dataframe\">\n",
       "  <thead>\n",
       "    <tr style=\"text-align: right;\">\n",
       "      <th></th>\n",
       "      <th>stu</th>\n",
       "      <th>evi</th>\n",
       "      <th>min</th>\n",
       "      <th>max</th>\n",
       "    </tr>\n",
       "  </thead>\n",
       "  <tbody>\n",
       "    <tr>\n",
       "      <th>Number of Bins</th>\n",
       "      <td>18.0000</td>\n",
       "      <td>19.0000</td>\n",
       "      <td>18.0000</td>\n",
       "      <td>18.0000</td>\n",
       "    </tr>\n",
       "    <tr>\n",
       "      <th>Jensen-Shannon Distance</th>\n",
       "      <td>1.0000</td>\n",
       "      <td>1.0000</td>\n",
       "      <td>1.0000</td>\n",
       "      <td>1.0000</td>\n",
       "    </tr>\n",
       "    <tr>\n",
       "      <th>Normed Wasserstein Distance</th>\n",
       "      <td>1000.0000</td>\n",
       "      <td>1000.0000</td>\n",
       "      <td>1000.0000</td>\n",
       "      <td>1000.0000</td>\n",
       "    </tr>\n",
       "    <tr>\n",
       "      <th>PSI</th>\n",
       "      <td>23.0259</td>\n",
       "      <td>23.0259</td>\n",
       "      <td>23.0259</td>\n",
       "      <td>23.0259</td>\n",
       "    </tr>\n",
       "    <tr>\n",
       "      <th>D_inf</th>\n",
       "      <td>1.0000</td>\n",
       "      <td>1.0000</td>\n",
       "      <td>1.0000</td>\n",
       "      <td>1.0000</td>\n",
       "    </tr>\n",
       "    <tr>\n",
       "      <th>KS Test</th>\n",
       "      <td>0.0000</td>\n",
       "      <td>0.0000</td>\n",
       "      <td>0.0000</td>\n",
       "      <td>0.0000</td>\n",
       "    </tr>\n",
       "  </tbody>\n",
       "</table>\n",
       "</div>"
      ],
      "text/plain": [
       "                                   stu        evi        min        max\n",
       "Number of Bins                 18.0000    19.0000    18.0000    18.0000\n",
       "Jensen-Shannon Distance         1.0000     1.0000     1.0000     1.0000\n",
       "Normed Wasserstein Distance  1000.0000  1000.0000  1000.0000  1000.0000\n",
       "PSI                            23.0259    23.0259    23.0259    23.0259\n",
       "D_inf                           1.0000     1.0000     1.0000     1.0000\n",
       "KS Test                         0.0000     0.0000     0.0000     0.0000"
      ]
     },
     "execution_count": 7,
     "metadata": {},
     "output_type": "execute_result"
    }
   ],
   "source": [
    "df = create_bin_strategy_comparison_table_numerical(x,y)\n",
    "df"
   ]
  },
  {
   "cell_type": "code",
   "execution_count": 8,
   "metadata": {},
   "outputs": [
    {
     "data": {
      "text/html": [
       "<div>\n",
       "<style scoped>\n",
       "    .dataframe tbody tr th:only-of-type {\n",
       "        vertical-align: middle;\n",
       "    }\n",
       "\n",
       "    .dataframe tbody tr th {\n",
       "        vertical-align: top;\n",
       "    }\n",
       "\n",
       "    .dataframe thead th {\n",
       "        text-align: right;\n",
       "    }\n",
       "</style>\n",
       "<table border=\"1\" class=\"dataframe\">\n",
       "  <thead>\n",
       "    <tr style=\"text-align: right;\">\n",
       "      <th></th>\n",
       "      <th>Local</th>\n",
       "      <th>Evidently</th>\n",
       "    </tr>\n",
       "  </thead>\n",
       "  <tbody>\n",
       "    <tr>\n",
       "      <th>Jensen-Shannon Distance</th>\n",
       "      <td>1.0000</td>\n",
       "      <td>0.8326</td>\n",
       "    </tr>\n",
       "    <tr>\n",
       "      <th>Wasserstein Distance</th>\n",
       "      <td>1000.0000</td>\n",
       "      <td>1000.0000</td>\n",
       "    </tr>\n",
       "    <tr>\n",
       "      <th>PSI</th>\n",
       "      <td>18.4188</td>\n",
       "      <td>18.4188</td>\n",
       "    </tr>\n",
       "  </tbody>\n",
       "</table>\n",
       "</div>"
      ],
      "text/plain": [
       "                             Local  Evidently\n",
       "Jensen-Shannon Distance     1.0000     0.8326\n",
       "Wasserstein Distance     1000.0000  1000.0000\n",
       "PSI                        18.4188    18.4188"
      ]
     },
     "execution_count": 8,
     "metadata": {},
     "output_type": "execute_result"
    }
   ],
   "source": [
    "df = create_comparison_with_evidently_table_numerical(x,y)\n",
    "df"
   ]
  },
  {
   "attachments": {},
   "cell_type": "markdown",
   "metadata": {},
   "source": [
    "### Test Jensen-Shannon Distance"
   ]
  },
  {
   "cell_type": "code",
   "execution_count": 9,
   "metadata": {},
   "outputs": [
    {
     "data": {
      "text/html": [
       "<div>\n",
       "<style scoped>\n",
       "    .dataframe tbody tr th:only-of-type {\n",
       "        vertical-align: middle;\n",
       "    }\n",
       "\n",
       "    .dataframe tbody tr th {\n",
       "        vertical-align: top;\n",
       "    }\n",
       "\n",
       "    .dataframe thead th {\n",
       "        text-align: right;\n",
       "    }\n",
       "</style>\n",
       "<table border=\"1\" class=\"dataframe\">\n",
       "  <thead>\n",
       "    <tr style=\"text-align: right;\">\n",
       "      <th></th>\n",
       "      <th>stu</th>\n",
       "      <th>evi</th>\n",
       "      <th>min</th>\n",
       "      <th>max</th>\n",
       "    </tr>\n",
       "  </thead>\n",
       "  <tbody>\n",
       "    <tr>\n",
       "      <th>Full Sample</th>\n",
       "      <td>1.0</td>\n",
       "      <td>1.0</td>\n",
       "      <td>1.0</td>\n",
       "      <td>1.0</td>\n",
       "    </tr>\n",
       "    <tr>\n",
       "      <th>1/10th Sample</th>\n",
       "      <td>1.0</td>\n",
       "      <td>1.0</td>\n",
       "      <td>1.0</td>\n",
       "      <td>1.0</td>\n",
       "    </tr>\n",
       "    <tr>\n",
       "      <th>1/100th Sample</th>\n",
       "      <td>1.0</td>\n",
       "      <td>1.0</td>\n",
       "      <td>1.0</td>\n",
       "      <td>1.0</td>\n",
       "    </tr>\n",
       "    <tr>\n",
       "      <th>1/1000th Sample</th>\n",
       "      <td>1.0</td>\n",
       "      <td>1.0</td>\n",
       "      <td>1.0</td>\n",
       "      <td>1.0</td>\n",
       "    </tr>\n",
       "    <tr>\n",
       "      <th>1/10,000th Sample</th>\n",
       "      <td>1.0</td>\n",
       "      <td>1.0</td>\n",
       "      <td>1.0</td>\n",
       "      <td>1.0</td>\n",
       "    </tr>\n",
       "  </tbody>\n",
       "</table>\n",
       "</div>"
      ],
      "text/plain": [
       "                   stu  evi  min  max\n",
       "Full Sample        1.0  1.0  1.0  1.0\n",
       "1/10th Sample      1.0  1.0  1.0  1.0\n",
       "1/100th Sample     1.0  1.0  1.0  1.0\n",
       "1/1000th Sample    1.0  1.0  1.0  1.0\n",
       "1/10,000th Sample  1.0  1.0  1.0  1.0"
      ]
     },
     "execution_count": 9,
     "metadata": {},
     "output_type": "execute_result"
    }
   ],
   "source": [
    "df = create_sample_size_comparison_table_numerical(x,y,\"jensen_shannon_distance_numerical\", output='distance')\n",
    "df"
   ]
  },
  {
   "attachments": {},
   "cell_type": "markdown",
   "metadata": {},
   "source": [
    " ### Test Wasserstein Distance"
   ]
  },
  {
   "cell_type": "code",
   "execution_count": 10,
   "metadata": {},
   "outputs": [
    {
     "data": {
      "text/html": [
       "<div>\n",
       "<style scoped>\n",
       "    .dataframe tbody tr th:only-of-type {\n",
       "        vertical-align: middle;\n",
       "    }\n",
       "\n",
       "    .dataframe tbody tr th {\n",
       "        vertical-align: top;\n",
       "    }\n",
       "\n",
       "    .dataframe thead th {\n",
       "        text-align: right;\n",
       "    }\n",
       "</style>\n",
       "<table border=\"1\" class=\"dataframe\">\n",
       "  <thead>\n",
       "    <tr style=\"text-align: right;\">\n",
       "      <th></th>\n",
       "      <th>stu</th>\n",
       "      <th>evi</th>\n",
       "      <th>min</th>\n",
       "      <th>max</th>\n",
       "    </tr>\n",
       "  </thead>\n",
       "  <tbody>\n",
       "    <tr>\n",
       "      <th>Full Sample</th>\n",
       "      <td>1000.0</td>\n",
       "      <td>1000.0</td>\n",
       "      <td>1000.0</td>\n",
       "      <td>1000.0</td>\n",
       "    </tr>\n",
       "    <tr>\n",
       "      <th>1/10th Sample</th>\n",
       "      <td>1000.0</td>\n",
       "      <td>1000.0</td>\n",
       "      <td>1000.0</td>\n",
       "      <td>1000.0</td>\n",
       "    </tr>\n",
       "    <tr>\n",
       "      <th>1/100th Sample</th>\n",
       "      <td>1000.0</td>\n",
       "      <td>1000.0</td>\n",
       "      <td>1000.0</td>\n",
       "      <td>1000.0</td>\n",
       "    </tr>\n",
       "    <tr>\n",
       "      <th>1/1000th Sample</th>\n",
       "      <td>1000.0</td>\n",
       "      <td>1000.0</td>\n",
       "      <td>1000.0</td>\n",
       "      <td>1000.0</td>\n",
       "    </tr>\n",
       "    <tr>\n",
       "      <th>1/10,000th Sample</th>\n",
       "      <td>1000.0</td>\n",
       "      <td>1000.0</td>\n",
       "      <td>1000.0</td>\n",
       "      <td>1000.0</td>\n",
       "    </tr>\n",
       "  </tbody>\n",
       "</table>\n",
       "</div>"
      ],
      "text/plain": [
       "                      stu     evi     min     max\n",
       "Full Sample        1000.0  1000.0  1000.0  1000.0\n",
       "1/10th Sample      1000.0  1000.0  1000.0  1000.0\n",
       "1/100th Sample     1000.0  1000.0  1000.0  1000.0\n",
       "1/1000th Sample    1000.0  1000.0  1000.0  1000.0\n",
       "1/10,000th Sample  1000.0  1000.0  1000.0  1000.0"
      ]
     },
     "execution_count": 10,
     "metadata": {},
     "output_type": "execute_result"
    }
   ],
   "source": [
    "df = create_sample_size_comparison_table_numerical(x,y,\"normed_wasserstein_distance_numerical\", output='distance')\n",
    "df"
   ]
  },
  {
   "attachments": {},
   "cell_type": "markdown",
   "metadata": {},
   "source": [
    "### Test PSI"
   ]
  },
  {
   "cell_type": "code",
   "execution_count": 11,
   "metadata": {},
   "outputs": [
    {
     "data": {
      "text/html": [
       "<div>\n",
       "<style scoped>\n",
       "    .dataframe tbody tr th:only-of-type {\n",
       "        vertical-align: middle;\n",
       "    }\n",
       "\n",
       "    .dataframe tbody tr th {\n",
       "        vertical-align: top;\n",
       "    }\n",
       "\n",
       "    .dataframe thead th {\n",
       "        text-align: right;\n",
       "    }\n",
       "</style>\n",
       "<table border=\"1\" class=\"dataframe\">\n",
       "  <thead>\n",
       "    <tr style=\"text-align: right;\">\n",
       "      <th></th>\n",
       "      <th>stu</th>\n",
       "      <th>evi</th>\n",
       "      <th>min</th>\n",
       "      <th>max</th>\n",
       "    </tr>\n",
       "  </thead>\n",
       "  <tbody>\n",
       "    <tr>\n",
       "      <th>Full Sample</th>\n",
       "      <td>23.0259</td>\n",
       "      <td>23.0259</td>\n",
       "      <td>23.0259</td>\n",
       "      <td>23.0259</td>\n",
       "    </tr>\n",
       "    <tr>\n",
       "      <th>1/10th Sample</th>\n",
       "      <td>20.7263</td>\n",
       "      <td>20.7269</td>\n",
       "      <td>20.7263</td>\n",
       "      <td>20.7269</td>\n",
       "    </tr>\n",
       "    <tr>\n",
       "      <th>1/100th Sample</th>\n",
       "      <td>18.4673</td>\n",
       "      <td>18.4992</td>\n",
       "      <td>18.4673</td>\n",
       "      <td>18.4992</td>\n",
       "    </tr>\n",
       "    <tr>\n",
       "      <th>1/1000th Sample</th>\n",
       "      <td>16.6112</td>\n",
       "      <td>17.3013</td>\n",
       "      <td>16.6112</td>\n",
       "      <td>17.3013</td>\n",
       "    </tr>\n",
       "    <tr>\n",
       "      <th>1/10,000th Sample</th>\n",
       "      <td>17.6041</td>\n",
       "      <td>29.5764</td>\n",
       "      <td>17.6041</td>\n",
       "      <td>29.5764</td>\n",
       "    </tr>\n",
       "  </tbody>\n",
       "</table>\n",
       "</div>"
      ],
      "text/plain": [
       "                       stu      evi      min      max\n",
       "Full Sample        23.0259  23.0259  23.0259  23.0259\n",
       "1/10th Sample      20.7263  20.7269  20.7263  20.7269\n",
       "1/100th Sample     18.4673  18.4992  18.4673  18.4992\n",
       "1/1000th Sample    16.6112  17.3013  16.6112  17.3013\n",
       "1/10,000th Sample  17.6041  29.5764  17.6041  29.5764"
      ]
     },
     "execution_count": 11,
     "metadata": {},
     "output_type": "execute_result"
    }
   ],
   "source": [
    "df = create_sample_size_comparison_table_numerical(x,y,\"psi_numerical\", output='distance')\n",
    "df"
   ]
  },
  {
   "attachments": {},
   "cell_type": "markdown",
   "metadata": {},
   "source": [
    "### Test D_inf"
   ]
  },
  {
   "cell_type": "code",
   "execution_count": 12,
   "metadata": {},
   "outputs": [
    {
     "data": {
      "text/html": [
       "<div>\n",
       "<style scoped>\n",
       "    .dataframe tbody tr th:only-of-type {\n",
       "        vertical-align: middle;\n",
       "    }\n",
       "\n",
       "    .dataframe tbody tr th {\n",
       "        vertical-align: top;\n",
       "    }\n",
       "\n",
       "    .dataframe thead th {\n",
       "        text-align: right;\n",
       "    }\n",
       "</style>\n",
       "<table border=\"1\" class=\"dataframe\">\n",
       "  <thead>\n",
       "    <tr style=\"text-align: right;\">\n",
       "      <th></th>\n",
       "      <th>stu</th>\n",
       "      <th>evi</th>\n",
       "      <th>min</th>\n",
       "      <th>max</th>\n",
       "    </tr>\n",
       "  </thead>\n",
       "  <tbody>\n",
       "    <tr>\n",
       "      <th>Full Sample</th>\n",
       "      <td>1.0</td>\n",
       "      <td>1.0</td>\n",
       "      <td>1.0</td>\n",
       "      <td>1.0</td>\n",
       "    </tr>\n",
       "    <tr>\n",
       "      <th>1/10th Sample</th>\n",
       "      <td>1.0</td>\n",
       "      <td>1.0</td>\n",
       "      <td>1.0</td>\n",
       "      <td>1.0</td>\n",
       "    </tr>\n",
       "    <tr>\n",
       "      <th>1/100th Sample</th>\n",
       "      <td>1.0</td>\n",
       "      <td>1.0</td>\n",
       "      <td>1.0</td>\n",
       "      <td>1.0</td>\n",
       "    </tr>\n",
       "    <tr>\n",
       "      <th>1/1000th Sample</th>\n",
       "      <td>1.0</td>\n",
       "      <td>1.0</td>\n",
       "      <td>1.0</td>\n",
       "      <td>1.0</td>\n",
       "    </tr>\n",
       "    <tr>\n",
       "      <th>1/10,000th Sample</th>\n",
       "      <td>1.0</td>\n",
       "      <td>1.0</td>\n",
       "      <td>1.0</td>\n",
       "      <td>1.0</td>\n",
       "    </tr>\n",
       "  </tbody>\n",
       "</table>\n",
       "</div>"
      ],
      "text/plain": [
       "                   stu  evi  min  max\n",
       "Full Sample        1.0  1.0  1.0  1.0\n",
       "1/10th Sample      1.0  1.0  1.0  1.0\n",
       "1/100th Sample     1.0  1.0  1.0  1.0\n",
       "1/1000th Sample    1.0  1.0  1.0  1.0\n",
       "1/10,000th Sample  1.0  1.0  1.0  1.0"
      ]
     },
     "execution_count": 12,
     "metadata": {},
     "output_type": "execute_result"
    }
   ],
   "source": [
    "df = create_sample_size_comparison_table_numerical(x,y,\"d_inf_numerical\", output='distance')\n",
    "df"
   ]
  },
  {
   "attachments": {},
   "cell_type": "markdown",
   "metadata": {},
   "source": [
    "### Test KS Test"
   ]
  },
  {
   "cell_type": "code",
   "execution_count": 13,
   "metadata": {},
   "outputs": [
    {
     "data": {
      "text/html": [
       "<div>\n",
       "<style scoped>\n",
       "    .dataframe tbody tr th:only-of-type {\n",
       "        vertical-align: middle;\n",
       "    }\n",
       "\n",
       "    .dataframe tbody tr th {\n",
       "        vertical-align: top;\n",
       "    }\n",
       "\n",
       "    .dataframe thead th {\n",
       "        text-align: right;\n",
       "    }\n",
       "</style>\n",
       "<table border=\"1\" class=\"dataframe\">\n",
       "  <thead>\n",
       "    <tr style=\"text-align: right;\">\n",
       "      <th></th>\n",
       "      <th>stu</th>\n",
       "      <th>evi</th>\n",
       "      <th>min</th>\n",
       "      <th>max</th>\n",
       "    </tr>\n",
       "  </thead>\n",
       "  <tbody>\n",
       "    <tr>\n",
       "      <th>Full Sample</th>\n",
       "      <td>0.0</td>\n",
       "      <td>0.0</td>\n",
       "      <td>0.0</td>\n",
       "      <td>0.0</td>\n",
       "    </tr>\n",
       "    <tr>\n",
       "      <th>1/10th Sample</th>\n",
       "      <td>0.0</td>\n",
       "      <td>0.0</td>\n",
       "      <td>0.0</td>\n",
       "      <td>0.0</td>\n",
       "    </tr>\n",
       "    <tr>\n",
       "      <th>1/100th Sample</th>\n",
       "      <td>0.0</td>\n",
       "      <td>0.0</td>\n",
       "      <td>0.0</td>\n",
       "      <td>0.0</td>\n",
       "    </tr>\n",
       "    <tr>\n",
       "      <th>1/1000th Sample</th>\n",
       "      <td>0.0</td>\n",
       "      <td>0.0</td>\n",
       "      <td>0.0</td>\n",
       "      <td>0.0</td>\n",
       "    </tr>\n",
       "    <tr>\n",
       "      <th>1/10,000th Sample</th>\n",
       "      <td>0.0</td>\n",
       "      <td>0.0</td>\n",
       "      <td>0.0</td>\n",
       "      <td>0.0</td>\n",
       "    </tr>\n",
       "  </tbody>\n",
       "</table>\n",
       "</div>"
      ],
      "text/plain": [
       "                   stu  evi  min  max\n",
       "Full Sample        0.0  0.0  0.0  0.0\n",
       "1/10th Sample      0.0  0.0  0.0  0.0\n",
       "1/100th Sample     0.0  0.0  0.0  0.0\n",
       "1/1000th Sample    0.0  0.0  0.0  0.0\n",
       "1/10,000th Sample  0.0  0.0  0.0  0.0"
      ]
     },
     "execution_count": 13,
     "metadata": {},
     "output_type": "execute_result"
    }
   ],
   "source": [
    "df = create_sample_size_comparison_table_numerical(x,y,\"two_sample_ks_test_numerical\", output='distance')\n",
    "df"
   ]
  }
 ],
 "metadata": {
  "kernelspec": {
   "display_name": "data-drift-env",
   "language": "python",
   "name": "python3"
  },
  "language_info": {
   "codemirror_mode": {
    "name": "ipython",
    "version": 3
   },
   "file_extension": ".py",
   "mimetype": "text/x-python",
   "name": "python",
   "nbconvert_exporter": "python",
   "pygments_lexer": "ipython3",
   "version": "3.8.17"
  },
  "orig_nbformat": 4,
  "vscode": {
   "interpreter": {
    "hash": "de32243efe8733ca4a15d9aaf292021ac27ae74c6260a7ba037a76e64ea1f91c"
   }
  }
 },
 "nbformat": 4,
 "nbformat_minor": 2
}
