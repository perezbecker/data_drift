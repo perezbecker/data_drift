{
 "cells": [
  {
   "cell_type": "code",
   "execution_count": 39,
   "metadata": {},
   "outputs": [],
   "source": [
    "from matplotlib import pyplot as plt\n",
    "import numpy as np\n",
    "import pandas as pd\n",
    "import random\n",
    "from scipy.spatial import distance"
   ]
  },
  {
   "cell_type": "code",
   "execution_count": 40,
   "metadata": {},
   "outputs": [],
   "source": [
    "def jensen_shannon_distance(production_col: pd.DataFrame, baseline_col: pd.DataFrame) -> float:\n",
    "    \"\"\"Compute data drift using Jensen-Shannon Distance for each feature.\n",
    "\n",
    "    Args:\n",
    "        production_col: DataFrame column from production dataset provided by user.\n",
    "        baseline_col: DataFrame column from baseline dataset provided by user.\n",
    "\n",
    "    Returns:\n",
    "        float: The Jensen-Shannon distances between production and baseline column\n",
    "\n",
    "    \"\"\"\n",
    "    values_per_column = list(set(baseline_col.unique()) | set(production_col.unique()))\n",
    "    current_frequencies = np.array([production_col.to_list().count(value) for value in values_per_column])\n",
    "    reference_frequencies = np.array([baseline_col.to_list().count(value) for value in values_per_column])\n",
    "    current_ratios = current_frequencies / np.sum(current_frequencies)\n",
    "    reference_ratios = reference_frequencies / np.sum(reference_frequencies)\n",
    "    return distance.jensenshannon(current_ratios, reference_ratios)"
   ]
  },
  {
   "cell_type": "code",
   "execution_count": 41,
   "metadata": {},
   "outputs": [],
   "source": [
    "observations = 10_000\n",
    "x = pd.Series(np.random.normal(50, 15, observations)) # reference\n",
    "w = pd.Series(np.random.normal(50, 15, observations)) # identical with x"
   ]
  },
  {
   "cell_type": "code",
   "execution_count": 42,
   "metadata": {},
   "outputs": [
    {
     "name": "stdout",
     "output_type": "stream",
     "text": [
      "Jensen-Shannon Distance: 0.8325546111576977\n"
     ]
    }
   ],
   "source": [
    "print(\"Jensen-Shannon Distance:\", jensen_shannon_distance(x, w))"
   ]
  },
  {
   "cell_type": "code",
   "execution_count": 45,
   "metadata": {},
   "outputs": [
    {
     "data": {
      "text/plain": [
       "<AxesSubplot:>"
      ]
     },
     "execution_count": 45,
     "metadata": {},
     "output_type": "execute_result"
    },
    {
     "data": {
      "image/png": "[encoded data removed]",
      "text/plain": [
       "<Figure size 640x480 with 1 Axes>"
      ]
     },
     "metadata": {},
     "output_type": "display_data"
    }
   ],
   "source": [
    "x.hist(bins=40)\n",
    "w.hist(bins=40)"
   ]
  },
  {
   "cell_type": "code",
   "execution_count": null,
   "metadata": {},
   "outputs": [],
   "source": []
  }
 ],
 "metadata": {
  "kernelspec": {
   "display_name": "data-drift-env",
   "language": "python",
   "name": "python3"
  },
  "language_info": {
   "codemirror_mode": {
    "name": "ipython",
    "version": 3
   },
   "file_extension": ".py",
   "mimetype": "text/x-python",
   "name": "python",
   "nbconvert_exporter": "python",
   "pygments_lexer": "ipython3",
   "version": "3.8.15"
  },
  "orig_nbformat": 4,
  "vscode": {
   "interpreter": {
    "hash": "de32243efe8733ca4a15d9aaf292021ac27ae74c6260a7ba037a76e64ea1f91c"
   }
  }
 },
 "nbformat": 4,
 "nbformat_minor": 2
}
