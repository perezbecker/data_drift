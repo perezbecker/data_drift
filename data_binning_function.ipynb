{
 "cells": [
  {
   "cell_type": "code",
   "execution_count": 156,
   "metadata": {},
   "outputs": [],
   "source": [
    "import pandas as pd\n",
    "import numpy as np"
   ]
  },
  {
   "cell_type": "code",
   "execution_count": 157,
   "metadata": {},
   "outputs": [],
   "source": [
    "def dual_histogram_bin_edges(x_array: pd.Series, y_array: pd.Series, bins='sturges'):\n",
    "    \"\"\"Compute bin edges thata are suitable for both x_array and y_array.\n",
    "    Args:\n",
    "        x_array: array of values of the first distribution\n",
    "        y_array: array of values of the second distribution\n",
    "        bins: binning estimator to use. Default 'Sturges' estimator recommended.\n",
    "    Returns:\n",
    "        ndarray: Equally spaced bin edges in the closed interval\n",
    "    \"\"\"\n",
    "    #find overall min and max values for both distributions\n",
    "    min_value = min(x_array.min(), y_array.min())\n",
    "    max_value = max(x_array.max(), y_array.max())\n",
    "\n",
    "    #select the smaller array and extend it with the overall min and max values\n",
    "    select_smaller_array = lambda x_array, y_array: x_array if x_array.size < y_array.size else y_array\n",
    "    smaller_array_extended = pd.concat([\n",
    "        select_smaller_array(x_array,y_array), \n",
    "        pd.Series([min_value, max_value])], ignore_index=True)\n",
    "\n",
    "    #return bin edges computed on the extended smaller array using the desired estimator\n",
    "    return np.histogram_bin_edges(smaller_array_extended, bins=bins)"
   ]
  },
  {
   "cell_type": "code",
   "execution_count": 158,
   "metadata": {},
   "outputs": [],
   "source": [
    "observations = 100_000\n",
    "x_array = pd.Series(np.random.normal(50, 15, observations)) # reference\n",
    "y_array = pd.Series(np.random.normal(50, 15, observations)) # identical with x"
   ]
  },
  {
   "cell_type": "code",
   "execution_count": 159,
   "metadata": {},
   "outputs": [
    {
     "data": {
      "text/plain": [
       "array([-19.41419953, -11.84324999,  -4.27230045,   3.29864909,\n",
       "        10.86959863,  18.44054817,  26.01149771,  33.58244725,\n",
       "        41.15339679,  48.72434633,  56.29529587,  63.86624541,\n",
       "        71.43719495,  79.00814449,  86.57909403,  94.15004357,\n",
       "       101.72099311, 109.29194265, 116.86289219])"
      ]
     },
     "execution_count": 159,
     "metadata": {},
     "output_type": "execute_result"
    }
   ],
   "source": [
    "test_a = dual_histogram_bin_edges(x_array, y_array)\n",
    "test_a"
   ]
  },
  {
   "cell_type": "code",
   "execution_count": 160,
   "metadata": {},
   "outputs": [
    {
     "name": "stdout",
     "output_type": "stream",
     "text": [
      "19\n"
     ]
    }
   ],
   "source": [
    "print(len(test_a))"
   ]
  },
  {
   "cell_type": "code",
   "execution_count": 161,
   "metadata": {},
   "outputs": [],
   "source": [
    "x_array = pd.Series([1,1,1,1,1]) # reference\n",
    "y_array = pd.Series([1,1]) # identical with x"
   ]
  },
  {
   "cell_type": "code",
   "execution_count": 162,
   "metadata": {},
   "outputs": [
    {
     "data": {
      "text/plain": [
       "array([0.5, 1.5])"
      ]
     },
     "execution_count": 162,
     "metadata": {},
     "output_type": "execute_result"
    }
   ],
   "source": [
    "test_b = dual_histogram_bin_edges(x_array, y_array)\n",
    "test_b\n"
   ]
  },
  {
   "cell_type": "code",
   "execution_count": null,
   "metadata": {},
   "outputs": [],
   "source": []
  }
 ],
 "metadata": {
  "kernelspec": {
   "display_name": "data-drift-env",
   "language": "python",
   "name": "python3"
  },
  "language_info": {
   "codemirror_mode": {
    "name": "ipython",
    "version": 3
   },
   "file_extension": ".py",
   "mimetype": "text/x-python",
   "name": "python",
   "nbconvert_exporter": "python",
   "pygments_lexer": "ipython3",
   "version": "3.8.15"
  },
  "orig_nbformat": 4,
  "vscode": {
   "interpreter": {
    "hash": "de32243efe8733ca4a15d9aaf292021ac27ae74c6260a7ba037a76e64ea1f91c"
   }
  }
 },
 "nbformat": 4,
 "nbformat_minor": 2
}
