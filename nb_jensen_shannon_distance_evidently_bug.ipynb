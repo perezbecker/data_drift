{
 "cells": [
  {
   "cell_type": "markdown",
   "metadata": {},
   "source": [
    "## Code to reproduce Jensen-Shannon distance bug in Evidently\n",
    "\n",
    "https://github.com/evidentlyai/evidently/issues/494\n",
    "\n",
    "also a bug here:\n",
    "https://github.com/microsoft/SynapseML/issues/2006"
   ]
  },
  {
   "cell_type": "markdown",
   "metadata": {},
   "source": [
    "### Describe the problem\n",
    "\n",
    "Your [current implementation for the Jensen-Shannon Distance (JSD)](https://github.com/evidentlyai/evidently/blob/main/src/evidently/calculations/stattests/jensenshannon.py) is leveraging [scipy.spatial.distance.jensenshannon](https://docs.scipy.org/doc/scipy/reference/generated/scipy.spatial.distance.jensenshannon.html), which defaults to computing the JSD using logarithms with base e. Under this definition, the JSD is bound between 0 and sqrt(ln(2))=0.83255... (see, for example, the [JSD Wikipedia article](https://en.wikipedia.org/wiki/Jensen%E2%80%93Shannon_divergence))\n",
    "\n",
    "I believe you want to compute JSD using base 2 logarithms, so that it is bound between 0 and 1 as you state in your [data drift detection blog post](https://www.evidentlyai.com/blog/data-drift-detection-large-datasets).\n",
    "\n",
    "Here is code which reproduces this issue by computing the JSD between two extremely drifted distributions: \n",
    "```\n",
    "from evidently.calculations.stattests import jensenshannon_stat_test\n",
    "import numpy as np\n",
    "import pandas as pd\n",
    "\n",
    "x = pd.Series(np.random.normal(100, 10, 100_000))\n",
    "y = pd.Series(np.random.normal(10_000, 10, 100_000))\n",
    "\n",
    "print(jensenshannon_stat_test(x, y, feature_type='num',threshold=0.1))\n",
    ">>> StatTestResult(drift_score=0.8325546111576977, drifted=True, actual_threshold=0.1)\n",
    "```\n",
    "Note that the `drift_score` is close to the current maximum theoretical value of `sqrt(ln(2))=0.83255...`, instead of the desired value of `1`. "
   ]
  },
  {
   "cell_type": "code",
   "execution_count": 4,
   "metadata": {},
   "outputs": [
    {
     "name": "stdout",
     "output_type": "stream",
     "text": [
      "StatTestResult(drift_score=0.8325546111576977, drifted=True, actual_threshold=0.1)\n"
     ]
    }
   ],
   "source": [
    "from evidently.calculations.stattests import jensenshannon_stat_test\n",
    "import numpy as np\n",
    "import pandas as pd\n",
    "\n",
    "# Create two distributions\n",
    "x = pd.Series(np.random.normal(100, 10, 100_000))\n",
    "y = pd.Series(np.random.normal(10_000, 10, 100_000))\n",
    "\n",
    "\n",
    "# Calculate the Jensen-Shannon divergence\n",
    "print(jensenshannon_stat_test(x, y, feature_type='num',threshold=0.1))"
   ]
  },
  {
   "cell_type": "code",
   "execution_count": 11,
   "metadata": {},
   "outputs": [
    {
     "name": "stdout",
     "output_type": "stream",
     "text": [
      "Jensen-Shannon Distance base-e entropy (defalut): 0.8325546111576977\n",
      "Jensen-Shannon Distance base-2 entropy: 1.0\n"
     ]
    }
   ],
   "source": [
    "from scipy.spatial import distance\n",
    "from utils import compute_optimal_histogram_bin_edges\n",
    "\n",
    "bin_edges = compute_optimal_histogram_bin_edges(x, y, bin_strategy='stu')\n",
    "x_percent = np.histogram(x, bins=bin_edges)[0] / len(x)\n",
    "y_percent = np.histogram(y, bins=bin_edges)[0] / len(y)\n",
    "\n",
    "\n",
    "print(f'Jensen-Shannon Distance base-e entropy (defalut): {distance.jensenshannon(x_percent, y_percent)}')\n",
    "\n",
    "print(f'Jensen-Shannon Distance base-2 entropy: {distance.jensenshannon(x_percent, y_percent, base=2)}')\n"
   ]
  }
 ],
 "metadata": {
  "kernelspec": {
   "display_name": "data-drift-env",
   "language": "python",
   "name": "python3"
  },
  "language_info": {
   "codemirror_mode": {
    "name": "ipython",
    "version": 3
   },
   "file_extension": ".py",
   "mimetype": "text/x-python",
   "name": "python",
   "nbconvert_exporter": "python",
   "pygments_lexer": "ipython3",
   "version": "3.8.17"
  },
  "orig_nbformat": 4
 },
 "nbformat": 4,
 "nbformat_minor": 2
}
