{
 "cells": [
  {
   "cell_type": "markdown",
   "metadata": {},
   "source": [
    "## Code to reproduce Wasserstein Distance issue filed in the SynapeML repo\n",
    "https://github.com/microsoft/SynapseML/issues/2009 "
   ]
  },
  {
   "cell_type": "markdown",
   "metadata": {},
   "source": [
    "### Describe the problem\n",
    "\n",
    "The Wasserstein distance, sometimes referred to as earth mover's distance (under some conditions), is perhaps most easily understood by imagining distributions as different ways of piling up earth. The earth mover's distance is the minimum cost of transforming one distribution to the other by shuffling earth around, where cost is defined as the amount of dirt moved multiplied by the **horizontal** distance over which it is moved. In this analogy the effects of gravity are ignored (in reality it takes work to lift dirt up).\n",
    "\n",
    "Lets take two simple examples. Our goal is to flatten the initial distribution defined over metric space spanning from 1 to 3 into a uniform distribution and measure the cost it took. \n",
    "\n",
    "Example 1:\n",
    "Here we have an excess of dirt at 2 which we can move into 3. The cost of flattening the distribution is a single unit. \n",
    "<pre>\n",
    "  o                \n",
    "o o        o o o \n",
    "o o o      o o o\n",
    "-----  ->  -----\n",
    "1 2 3      1 2 3\n",
    "</pre>\n",
    "\n",
    "Example 2:\n",
    "Here the excess of dirt is initially at 1, which needs to needs to be first moved to 2 and then finally to 3. The cost of flattening the distribution is 2 units. \n",
    "<pre>\n",
    "o             o      \n",
    "o o         o o        o o o \n",
    "o o o       o o o      o o o\n",
    "-----  ->   -----  ->  -----\n",
    "1 2 3       1 2 3      1 2 3\n",
    "</pre>\n",
    "\n",
    "We can confirm this result with the `scipy.stats.wasserstein_distance` function:\n",
    "```python\n",
    "# Example 1\n",
    "wasserstein_distance([1,1,2,2,2,3],[1,1,2,2,3,3])\n",
    "0.166666\n",
    "\n",
    "# Example 2\n",
    "wasserstein_distance([1,1,2,2,2,3],[1,1,2,2,3,3])\n",
    "0.333333\n",
    "```\n",
    "What is important to note is that the Wasserstein distance of Example 2 is twice that of Example 1, as it was in our toy example.\n",
    "\n",
    "Now we can understand why the Wasserstein distance can't really be defined for categorical variables. Imagine that instead of the range between 1 and 3 the distribution is over three colors: red, green, and blue. What is the cost moving earth from green to blue? Is it the same as moving it from red to blue? Will everyone agree on a the same answer? It is no longer clear whether Example 2 should cost twice as Example 1. We confirm this issue by computing the Wasserstein distance for Example 1 and Example 2 as for categorical columns as defined by the DistributionBalanceMeasures functions of SynapseML: \n",
    "```python\n",
    "# Example 1\n",
    "Example1 = [1,1,1,2,2,3]\n",
    "df1 = spark.createDataFrame(Example1, IntegerType()).toDF(\"earth\")\n",
    "\n",
    "wasserstein_distance_example1 = (\n",
    "    DistributionBalanceMeasure()\n",
    "    .setSensitiveCols(['earth'])\n",
    "    .transform(df1).select(\"FeatureName\",\"DistributionBalanceMeasure.wasserstein_dist\")\n",
    ")\n",
    "\n",
    "wasserstein_distance_example1.show(truncate=False)\n",
    "+-----------+-------------------+\n",
    "|FeatureName|wasserstein_dist   |\n",
    "+-----------+-------------------+\n",
    "|earth      |0.11111111111111112|\n",
    "+-----------+-------------------+\n",
    "\n",
    "\n",
    "# Example 2\n",
    "Example2 = [1,1,2,2,2,3]\n",
    "df2 = spark.createDataFrame(Example2, IntegerType()).toDF(\"earth\")\n",
    "\n",
    "wasserstein_distance_example2 = (\n",
    "    DistributionBalanceMeasure()\n",
    "    .setSensitiveCols(['earth'])\n",
    "    .transform(df2).select(\"FeatureName\",\"DistributionBalanceMeasure.wasserstein_dist\")\n",
    ")\n",
    "\n",
    "wasserstein_distance_example2.show(truncate=False)\n",
    "+-----------+-------------------+\n",
    "|FeatureName|wasserstein_dist   |\n",
    "+-----------+-------------------+\n",
    "|earth      |0.11111111111111112|\n",
    "+-----------+-------------------+\n",
    "```\n",
    "The Wasserstein distance is the same for Example 1 and Example 2, which is not what we expect. \n",
    "\n",
    "\n",
    "### Code to reproduce issue\n",
    "\n",
    "Here is another way of showcasing the issue, by coding up a function that can compute the Wasserstein Distance for these simple examples:\n",
    "\n",
    "```python\n",
    "def wasserstein_dist(x,y):\n",
    "    sorted_x = sorted(x)\n",
    "    sorted_y = sorted(y)\n",
    "    \n",
    "    if len(sorted_x) != len(sorted_y):\n",
    "        raise ValueError(\"The two arrays must have the same length.\")\n",
    "    \n",
    "    sum = 0\n",
    "    for i in range(len(sorted_x)):\n",
    "        sum += abs(sorted_x[i] - sorted_y[i])\n",
    "    \n",
    "    return sum / len(sorted_x)\n",
    "\n",
    "Example1 = [1,1,1,2,2,3]\n",
    "Example2 = [1,1,2,2,2,3]\n",
    "y = [1,1,2,2,3,3]\n",
    "\n",
    "wasserstein_dist(Example1,y)\n",
    "0.33333333\n",
    "\n",
    "wasserstein_dist(Example2,y)\n",
    "0.16666666\n",
    "```\n",
    "\n",
    "In contrast, what are DistributionBalanceMeasures functions of SynapseML are computing is: \n",
    "\n",
    "```python\n",
    "from collections import Counter  \n",
    "  \n",
    "def categorical_fractions(categorical_data):  \n",
    "    \n",
    "    # Count the occurrences of each feature  \n",
    "    feature_counts = Counter(categorical_data)  \n",
    "      \n",
    "    # Calculate the total number of features  \n",
    "    total_features = len(categorical_data)  \n",
    "      \n",
    "    # Calculate the fraction each feature occurs  \n",
    "    fractions = {feature: count / total_features for feature, count in feature_counts.items()}  \n",
    "      \n",
    "    return fractions  \n",
    "\n",
    "\n",
    "def cat_wasserstein_dist(x_probs, y_probs):\n",
    "    \n",
    "    # Combine the keys from both dictionaries  \n",
    "    all_keys = set(x_probs.keys()) | set(y_probs.keys())  \n",
    "      \n",
    "    # Calculate the absolute differences for each key  \n",
    "    absolute_differences = [abs(x_probs.get(key, 0) - y_probs.get(key, 0)) for key in all_keys]  \n",
    "      \n",
    "    # Calculate the mean of the absolute differences  \n",
    "    mean_difference = sum(absolute_differences) / len(absolute_differences)  \n",
    "      \n",
    "    return mean_difference  \n",
    "\n",
    "Example1 = [1,1,1,2,2,3]\n",
    "Example2 = [1,1,2,2,2,3]\n",
    "y = [1,1,2,2,3,3]\n",
    "\n",
    "Example1_probs = categorical_fractions(Example1)\n",
    "Example2_probs = categorical_fractions(Example2)\n",
    "y_probs = categorical_fractions(y)\n",
    "\n",
    "cat_wasserstein_dist(Example1_probs, y_probs)\n",
    "0.11111111\n",
    "\n",
    "cat_wasserstein_dist(Example2_probs, y_probs)\n",
    "0.11111111\n",
    "```\n",
    "\n",
    "Note that both definitions contain similar mathematical expressions, especially the component computing `mean(abs(X - Y))` (present in the source code [here](https://github.com/microsoft/SynapseML/blob/4205bf50ef61f7826796fbe410d9a08071c1f89d/core/src/main/scala/com/microsoft/azure/synapse/ml/exploratory/DistributionBalanceMeasure.scala#L249)), but they are fundamentally computing different things. In the Wasserstein distance, the difference between X and Y is being computed over the metric space (the horizontal direction in the earth pile distribution), while for the definition used in DistributionBalanceMeasures it is **within** a category. This would correspond to the vertical direction in the earth pile distribution. As currently defined, the Wasserstein Distance computed by DistribuionBalanceMeasures is more akin to what the Jensen-Shannon Distance.  \n",
    "\n",
    "## Recommendation\n",
    "My recommendation is to completely avoid trying to define the Wasserstein distance for categorical features. To properly define it, we **require** the probability distribution to be defined over a [metric space](https://en.wikipedia.org/wiki/Metric_space), which categorical variables do not create. In principle, we could define distances between categories and thus define a metric analogous to the Wasserstein distance, but this is really more trouble than it is worth and would be a source of endless confusion for users. We already have measures that are properly defined for categorical variables, like the Jensen-Shannon Distance, so we should use those."
   ]
  },
  {
   "cell_type": "code",
   "execution_count": 23,
   "metadata": {},
   "outputs": [],
   "source": [
    "from scipy.stats import wasserstein_distance"
   ]
  },
  {
   "cell_type": "code",
   "execution_count": 24,
   "metadata": {},
   "outputs": [
    {
     "data": {
      "text/plain": [
       "0.3333333333333334"
      ]
     },
     "execution_count": 24,
     "metadata": {},
     "output_type": "execute_result"
    }
   ],
   "source": [
    "wasserstein_distance([1,1,1,2,2,3],[1,1,2,2,3,3])"
   ]
  },
  {
   "cell_type": "code",
   "execution_count": 25,
   "metadata": {},
   "outputs": [
    {
     "data": {
      "text/plain": [
       "0.16666666666666674"
      ]
     },
     "execution_count": 25,
     "metadata": {},
     "output_type": "execute_result"
    }
   ],
   "source": [
    "wasserstein_distance([1,1,2,2,2,3],[1,1,2,2,3,3])"
   ]
  },
  {
   "cell_type": "code",
   "execution_count": 27,
   "metadata": {},
   "outputs": [
    {
     "data": {
      "text/plain": [
       "0.16666666666666663"
      ]
     },
     "execution_count": 27,
     "metadata": {},
     "output_type": "execute_result"
    }
   ],
   "source": [
    "wasserstein_distance([1,1,2,3,3,3],[1,1,2,2,3,3])"
   ]
  },
  {
   "attachments": {},
   "cell_type": "markdown",
   "metadata": {},
   "source": [
    "### Wasserstein Distance \"by Hand\""
   ]
  },
  {
   "cell_type": "code",
   "execution_count": 29,
   "metadata": {},
   "outputs": [],
   "source": [
    "def wasserstein_dist(x,y):\n",
    "    sorted_x = sorted(x)\n",
    "    sorted_y = sorted(y)\n",
    "    \n",
    "    if len(sorted_x) != len(sorted_y):\n",
    "        raise ValueError(\"The two arrays must have the same length.\")\n",
    "    \n",
    "    sum = 0\n",
    "    for i in range(len(sorted_x)):\n",
    "        sum += abs(sorted_x[i] - sorted_y[i])\n",
    "    \n",
    "    return sum / len(sorted_x)"
   ]
  },
  {
   "cell_type": "code",
   "execution_count": 30,
   "metadata": {},
   "outputs": [
    {
     "data": {
      "text/plain": [
       "0.3333333333333333"
      ]
     },
     "execution_count": 30,
     "metadata": {},
     "output_type": "execute_result"
    }
   ],
   "source": [
    "Example1 = [1,1,1,2,2,3]\n",
    "y = [1,1,2,2,3,3]\n",
    "wasserstein_dist(Example1,y)"
   ]
  },
  {
   "cell_type": "code",
   "execution_count": 31,
   "metadata": {},
   "outputs": [
    {
     "data": {
      "text/plain": [
       "0.16666666666666666"
      ]
     },
     "execution_count": 31,
     "metadata": {},
     "output_type": "execute_result"
    }
   ],
   "source": [
    "Example2 = [1,1,2,2,2,3]\n",
    "y = [1,1,2,2,3,3]\n",
    "wasserstein_dist(Example2,y)"
   ]
  },
  {
   "attachments": {},
   "cell_type": "markdown",
   "metadata": {},
   "source": [
    "### \"Wasserstein Distance\" for Categorical Features is ill-defined"
   ]
  },
  {
   "cell_type": "code",
   "execution_count": 32,
   "metadata": {},
   "outputs": [],
   "source": [
    "from collections import Counter  \n",
    "  \n",
    "def categorical_fractions(categorical_data):  \n",
    "    # Count the occurrences of each feature  \n",
    "    feature_counts = Counter(categorical_data)  \n",
    "      \n",
    "    # Calculate the total number of features  \n",
    "    total_features = len(categorical_data)  \n",
    "      \n",
    "    # Calculate the fraction each feature occurs  \n",
    "    fractions = {feature: count / total_features for feature, count in feature_counts.items()}  \n",
    "      \n",
    "    return fractions  \n",
    "\n",
    "\n",
    "def cat_wasserstein_dist(x_probs, y_probs):\n",
    "    \n",
    "    # Combine the keys from both dictionaries  \n",
    "    all_keys = set(x_probs.keys()) | set(y_probs.keys())  \n",
    "      \n",
    "    # Calculate the absolute differences for each key  \n",
    "    absolute_differences = [abs(x_probs.get(key, 0) - y_probs.get(key, 0)) for key in all_keys]  \n",
    "      \n",
    "    # Calculate the mean of the absolute differences  \n",
    "    mean_difference = sum(absolute_differences) / len(absolute_differences)  \n",
    "      \n",
    "    return mean_difference  "
   ]
  },
  {
   "cell_type": "code",
   "execution_count": 33,
   "metadata": {},
   "outputs": [
    {
     "name": "stdout",
     "output_type": "stream",
     "text": [
      "x1_probs:{1: 0.5, 2: 0.3333333333333333, 3: 0.16666666666666666}, y_probs:{1: 0.3333333333333333, 2: 0.3333333333333333, 3: 0.3333333333333333}\n"
     ]
    },
    {
     "data": {
      "text/plain": [
       "0.11111111111111112"
      ]
     },
     "execution_count": 33,
     "metadata": {},
     "output_type": "execute_result"
    }
   ],
   "source": [
    "\n",
    "x1_probs = categorical_fractions(Example1)\n",
    "y_probs = categorical_fractions(y)\n",
    "print(f'x1_probs:{x1_probs}, y_probs:{y_probs}')\n",
    "\n",
    "cat_wasserstein_dist(x1_probs, y_probs)"
   ]
  },
  {
   "cell_type": "code",
   "execution_count": 34,
   "metadata": {},
   "outputs": [
    {
     "name": "stdout",
     "output_type": "stream",
     "text": [
      "x2_probs:{1: 0.3333333333333333, 2: 0.5, 3: 0.16666666666666666}, y_probs:{1: 0.3333333333333333, 2: 0.3333333333333333, 3: 0.3333333333333333}\n"
     ]
    },
    {
     "data": {
      "text/plain": [
       "0.11111111111111112"
      ]
     },
     "execution_count": 34,
     "metadata": {},
     "output_type": "execute_result"
    }
   ],
   "source": [
    "x2_probs = categorical_fractions(Example2)\n",
    "y_probs = categorical_fractions(y)\n",
    "print(f'x2_probs:{x2_probs}, y_probs:{y_probs}')\n",
    "\n",
    "cat_wasserstein_dist(x2_probs, y_probs)"
   ]
  }
 ],
 "metadata": {
  "kernelspec": {
   "display_name": "data-drift-env",
   "language": "python",
   "name": "python3"
  },
  "language_info": {
   "codemirror_mode": {
    "name": "ipython",
    "version": 3
   },
   "file_extension": ".py",
   "mimetype": "text/x-python",
   "name": "python",
   "nbconvert_exporter": "python",
   "pygments_lexer": "ipython3",
   "version": "3.8.17"
  },
  "orig_nbformat": 4
 },
 "nbformat": 4,
 "nbformat_minor": 2
}
